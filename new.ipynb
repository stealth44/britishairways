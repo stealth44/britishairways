{
 "cells": [
  {
   "cell_type": "code",
   "execution_count": 4,
   "metadata": {},
   "outputs": [
    {
     "name": "stdout",
     "output_type": "stream",
     "text": [
      "{'neg': 0.302, 'neu': 0.698, 'pos': 0.0, 'compound': -0.3802}\n"
     ]
    },
    {
     "name": "stderr",
     "output_type": "stream",
     "text": [
      "[nltk_data] Downloading package vader_lexicon to\n",
      "[nltk_data]     C:\\Users\\Administrator\\AppData\\Roaming\\nltk_data...\n",
      "[nltk_data]   Package vader_lexicon is already up-to-date!\n"
     ]
    }
   ],
   "source": [
    "import nltk\n",
    "from nltk.sentiment import SentimentIntensityAnalyzer\n",
    "# Download VADER lexicon\n",
    "nltk.download('vader_lexicon')\n",
    "# Initialize VADER sentiment analyzer\n",
    "model = SentimentIntensityAnalyzer()\n",
    "# Sample text for sentiment analysis\n",
    "text = \"I am skeptical about this product! It's complicated.\"\n",
    "# Perform sentiment analysis\n",
    "sentiment_score = model.polarity_scores(text)\n",
    "# Print sentiment score\n",
    "print(sentiment_score)"
   ]
  },
  {
   "cell_type": "code",
   "execution_count": null,
   "metadata": {},
   "outputs": [],
   "source": [
    "def extract_score(text):\n",
    "\tscore = model.polarity_scores(text)\n",
    "\tcompound = score['compound']\n",
    "\n",
    "\tsentiment = 'neutral'\n",
    "\tif(compound >= 0.05):\n",
    "    \tsentiment = \"positive\"\n",
    "\n",
    "\telif(compound <= -0.05):\n",
    "    \tsentiment = \"negative\"\n",
    "\n",
    "\treturn sentiment\n"
   ]
  },
  {
   "cell_type": "code",
   "execution_count": null,
   "metadata": {},
   "outputs": [],
   "source": [
    "user_input='I love all celline dion songs'\n",
    "extract_score(user_input)"
   ]
  },
  {
   "cell_type": "code",
   "execution_count": null,
   "metadata": {},
   "outputs": [],
   "source": [
    "# Analyze sentiment\n",
    "data['sentiment'] = data['review'].apply(lambda x: sia.polarity_scores(x)['compound'])\n",
    "data['sentiment_label'] = data['sentiment'].apply(lambda x: 'positive' if x > 0 else ('negative' if x < 0 else 'neutral'))"
   ]
  },
  {
   "cell_type": "code",
   "execution_count": null,
   "metadata": {},
   "outputs": [],
   "source": [
    "plt.figure(figsize=(10, 6))\n",
    "sns.histplot(data['sentiment'], bins=30, kde=True)\n",
    "plt.title('Distribution of Sentiment Scores')\n",
    "plt.xlabel('Sentiment Score')\n",
    "plt.ylabel('Frequency')\n",
    "plt.show()\n",
    "\n",
    "# Boxplot\n",
    "plt.figure(figsize=(10, 6))\n",
    "sns.boxplot(x=data['sentiment'])\n",
    "plt.title('Boxplot of Sentiment Scores')\n",
    "plt.xlabel('Sentiment Score')\n",
    "plt.show()"
   ]
  }
 ],
 "metadata": {
  "kernelspec": {
   "display_name": "base",
   "language": "python",
   "name": "python3"
  },
  "language_info": {
   "codemirror_mode": {
    "name": "ipython",
    "version": 3
   },
   "file_extension": ".py",
   "mimetype": "text/x-python",
   "name": "python",
   "nbconvert_exporter": "python",
   "pygments_lexer": "ipython3",
   "version": "3.12.4"
  }
 },
 "nbformat": 4,
 "nbformat_minor": 2
}
